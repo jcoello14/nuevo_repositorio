{
  "nbformat": 4,
  "nbformat_minor": 0,
  "metadata": {
    "colab": {
      "provenance": [],
      "authorship_tag": "ABX9TyPDfqm4kIcxtJkLlV9WdB0d",
      "include_colab_link": true
    },
    "kernelspec": {
      "name": "python3",
      "display_name": "Python 3"
    },
    "language_info": {
      "name": "python"
    }
  },
  "cells": [
    {
      "cell_type": "markdown",
      "metadata": {
        "id": "view-in-github",
        "colab_type": "text"
      },
      "source": [
        "<a href=\"https://colab.research.google.com/github/jcoello14/nuevo_repositorio/blob/main/NadiaPriscilla.ipynb\" target=\"_parent\"><img src=\"https://colab.research.google.com/assets/colab-badge.svg\" alt=\"Open In Colab\"/></a>"
      ]
    },
    {
      "cell_type": "code",
      "execution_count": null,
      "metadata": {
        "id": "dk-3GGMHmA9g"
      },
      "outputs": [],
      "source": []
    },
    {
      "cell_type": "code",
      "source": [
        "print(\"Hola mi nombre es MOCPI\\n\")\n",
        "print(\"Tenemos deliciosas pizzas para ofrecerte. Aquí están nuestras opciones\\n\")\n",
        "print(\"1. Margarita($15)\\n\")\n",
        "print(\"2. Hawaiana($17)\\n\")\n",
        "print(\"3. Vegetariano($20)\\n\")\n",
        "print(\"4. Napolitana($22)\\n\")\n",
        "while True:\n",
        "  op=int(input(\"Ingrese su opción del 1 al 4: \"))\n",
        "  print(\"\\n\")\n",
        "  if op == 1:\n",
        "    print(\"Ud ha elegido una Pizza Margarita, su costo es de $15\\n\")\n",
        "    break\n",
        "  elif op == 2:\n",
        "    print(\"Ud ha elegido una Pizza Hawaiana, su costo es de $15\\n\")\n",
        "    break\n",
        "  elif op == 3:\n",
        "    print(\"Ud ha elegido una Pizza Vegetariano, su costo es de $15\\n\")\n",
        "    break\n",
        "  elif op == 4:\n",
        "    print(\"Ud ha elegido una Pizza Napolitana, su costo es de $15\\n\")\n",
        "    break\n",
        "  else:\n",
        "    print(\"Opción inválida, intente de nuevo\\n\")\n",
        "dir = input(\"\\nPor favor, ingrese su dirección: \")\n",
        "telf = str(input(\"Por favor ingrese su telefono celular: \"))\n",
        "print(\"\\nSu pedido estará listo en 30 minutos y lo enviaremos a la direccion: \" + dir + \" y le enviaremos un SMS a su telefóno: \" + telf)\n"
      ],
      "metadata": {
        "colab": {
          "base_uri": "https://localhost:8080/"
        },
        "id": "M8UaBc73mTf3",
        "outputId": "c40ac3b0-51de-494e-ef45-83e662443c9c"
      },
      "execution_count": 9,
      "outputs": [
        {
          "output_type": "stream",
          "name": "stdout",
          "text": [
            "Hola mi nombre es MOCPI\n",
            "\n",
            "Tenemos deliciosas pizzas para ofrecerte. Aquí están nuestras opciones\n",
            "\n",
            "1. Margarita($15)\n",
            "\n",
            "2. Hawaiana($17)\n",
            "\n",
            "3. Vegetariano($20)\n",
            "\n",
            "4. Napolitana($22)\n",
            "\n",
            "Ingrese su opción del 1 al 4: 5\n",
            "\n",
            "\n",
            "Opción inválida, intente de nuevo\n",
            "\n",
            "Ingrese su opción del 1 al 4: 6\n",
            "\n",
            "\n",
            "Opción inválida, intente de nuevo\n",
            "\n",
            "Ingrese su opción del 1 al 4: 4\n",
            "\n",
            "\n",
            "Ud ha elegido una Pizza Napolitana, su costo es de $15\n",
            "\n",
            "\n",
            "Por favor, ingrese su dirección: Sauces V\n",
            "Por favor ingrese su telefono celular: 0987818298\n",
            "Su pedido estará listo en 30 minutos y lo enviaremos a la direccion: Sauces V y le enviaremos un SMS a su telefóno: 0987818298\n"
          ]
        }
      ]
    }
  ]
}